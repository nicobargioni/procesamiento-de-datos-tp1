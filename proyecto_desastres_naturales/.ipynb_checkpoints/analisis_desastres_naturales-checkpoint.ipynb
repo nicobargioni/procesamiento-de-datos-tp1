{
 "cells": [
  {
   "cell_type": "markdown",
   "metadata": {},
   "source": [
    "# Análisis Exploratorio de Desastres Naturales (1970-2021)\n",
    "\n",
    "## Trabajo Práctico 1 - Proceso ETL\n",
    "\n",
    "Este notebook implementa un análisis exploratorio integral (EDA) mediante un proceso ETL estructurado para identificar patrones temporales y geográficos en la ocurrencia de desastres naturales.\n",
    "\n",
    "### Estructura del Análisis\n",
    "1. **Extracción**: Carga y validación del dataset\n",
    "2. **Transformación**: Limpieza, curación y creación de variables derivadas\n",
    "3. **Análisis Temporal**: Patrones estacionales y tendencias\n",
    "4. **Análisis Geográfico**: Cruces de variables relevantes\n",
    "5. **Visualizaciones**: Gráficos y reportes"
   ]
  },
  {
   "cell_type": "code",
   "execution_count": null,
   "metadata": {},
   "outputs": [],
   "source": [
    "# Importar librerías necesarias\n",
    "import pandas as pd\n",
    "import numpy as np\n",
    "import matplotlib.pyplot as plt\n",
    "import seaborn as sns\n",
    "import warnings\n",
    "warnings.filterwarnings('ignore')\n",
    "\n",
    "# Configurar display de pandas\n",
    "pd.set_option('display.max_columns', None)\n",
    "pd.set_option('display.max_rows', 100)\n",
    "\n",
    "# Importar módulos ETL personalizados\n",
    "import sys\n",
    "sys.path.append('..')\n",
    "\n",
    "from extract.extract_data import cargar_dataset, validar_estructura, explorar_dataset\n",
    "from transform.temporal_transform import (\n",
    "    crear_columna_fecha, \n",
    "    filtrar_ultimas_decadas,\n",
    "    analizar_patrones_estacionales,\n",
    "    analizar_tendencias_temporales\n",
    ")\n",
    "from transform.data_curation import (\n",
    "    limpiar_tipo_desastre,\n",
    "    limpiar_pais_region,\n",
    "    normalizar_columnas,\n",
    "    crear_variables_derivadas\n",
    ")\n",
    "from load.visualizaciones import (\n",
    "    crear_serie_temporal,\n",
    "    crear_heatmap_estacional,\n",
    "    crear_distribucion_geografica,\n",
    "    crear_grafico_barras_tipo,\n",
    "    crear_analisis_comparativo,\n",
    "    crear_visualizacion_cruces\n",
    ")\n",
    "\n",
    "print(\"✓ Librerías importadas correctamente\")"
   ]
  },
  {
   "cell_type": "markdown",
   "metadata": {},
   "source": [
    "## 1. EXTRACCIÓN DE DATOS\n",
    "\n",
    "Cargamos el dataset de desastres naturales y realizamos una exploración inicial."
   ]
  },
  {
   "cell_type": "code",
   "execution_count": null,
   "metadata": {},
   "outputs": [],
   "source": [
    "# Cargar dataset\n",
    "ruta_dataset = '../1970-2021_DISASTERS.xlsx - emdat data.csv'\n",
    "\n",
    "df_original = cargar_dataset(ruta_dataset)\n",
    "df_original.head()"
   ]
  },
  {
   "cell_type": "code",
   "execution_count": null,
   "metadata": {},
   "outputs": [],
   "source": [
    "# Validar estructura del dataset\n",
    "validacion = validar_estructura(df_original)\n",
    "print(f\"\\nDataset válido: {validacion['valido']}\")\n",
    "print(f\"Total de columnas: {validacion['total_columnas']}\")"
   ]
  },
  {
   "cell_type": "code",
   "execution_count": null,
   "metadata": {},
   "outputs": [],
   "source": [
    "# Explorar dataset\n",
    "exploracion = explorar_dataset(df_original)\n",
    "\n",
    "print(f\"\\nInformación del dataset:\")\n",
    "df_original.info()"
   ]
  },
  {
   "cell_type": "markdown",
   "metadata": {},
   "source": [
    "## 2. TRANSFORMACIÓN TEMPORAL\n",
    "\n",
    "### 2.1 Creación de columna fecha unificada"
   ]
  },
  {
   "cell_type": "code",
   "execution_count": null,
   "metadata": {},
   "outputs": [],
   "source": [
    "# Crear columna fecha unificada\n",
    "df = crear_columna_fecha(df_original)\n",
    "\n",
    "print(f\"\\nPrimeras fechas:\")\n",
    "print(df[['Year', 'Start Month', 'Start Day', 'fecha']].head(10))"
   ]
  },
  {
   "cell_type": "markdown",
   "metadata": {},
   "source": [
    "### 2.2 Filtrar últimas dos décadas (2001-2021)"
   ]
  },
  {
   "cell_type": "code",
   "execution_count": null,
   "metadata": {},
   "outputs": [],
   "source": [
    "# Filtrar últimas 20 años para análisis de tendencias recientes\n",
    "df_reciente = filtrar_ultimas_decadas(df, n_años=20)\n",
    "\n",
    "print(f\"\\nRegistros en el período 2001-2021: {len(df_reciente)}\")\n",
    "print(f\"Porcentaje del dataset total: {len(df_reciente)/len(df)*100:.2f}%\")"
   ]
  },
  {
   "cell_type": "markdown",
   "metadata": {},
   "source": [
    "## 3. CURACIÓN DE DATOS\n",
    "\n",
    "### 3.1 Limpieza de tipo de desastre"
   ]
  },
  {
   "cell_type": "code",
   "execution_count": null,
   "metadata": {},
   "outputs": [],
   "source": [
    "# Limpiar y estandarizar tipo de desastre\n",
    "df = limpiar_tipo_desastre(df)"
   ]
  },
  {
   "cell_type": "markdown",
   "metadata": {},
   "source": [
    "### 3.2 Limpieza de país y región"
   ]
  },
  {
   "cell_type": "code",
   "execution_count": null,
   "metadata": {},
   "outputs": [],
   "source": [
    "# Limpiar variables geográficas\n",
    "df = limpiar_pais_region(df)"
   ]
  },
  {
   "cell_type": "markdown",
   "metadata": {},
   "source": [
    "### 3.3 Creación de variables derivadas"
   ]
  },
  {
   "cell_type": "code",
   "execution_count": null,
   "metadata": {},
   "outputs": [],
   "source": [
    "# Crear variables derivadas útiles\n",
    "df = crear_variables_derivadas(df)\n",
    "\n",
    "print(\"\\nVariables derivadas creadas:\")\n",
    "if 'severidad' in df.columns:\n",
    "    print(df['severidad'].value_counts())\n",
    "if 'decada' in df.columns:\n",
    "    print(f\"\\nDécadas en el dataset: {sorted(df['decada'].unique())}\")"
   ]
  },
  {
   "cell_type": "markdown",
   "metadata": {},
   "source": [
    "## 4. ANÁLISIS DE PATRONES ESTACIONALES\n",
    "\n",
    "### 4.1 Análisis estacional general"
   ]
  },
  {
   "cell_type": "code",
   "execution_count": null,
   "metadata": {},
   "outputs": [],
   "source": [
    "# Analizar patrones estacionales\n",
    "analisis_estacional = analizar_patrones_estacionales(df_reciente)"
   ]
  },
  {
   "cell_type": "code",
   "execution_count": null,
   "metadata": {},
   "outputs": [],
   "source": [
    "# Visualizar distribución por mes\n",
    "print(\"\\nDistribución mensual de desastres:\")\n",
    "print(analisis_estacional['por_mes'])"
   ]
  },
  {
   "cell_type": "markdown",
   "metadata": {},
   "source": [
    "#### Apreciación Crítica - Patrones Estacionales\n",
    "\n",
    "**Observaciones:**\n",
    "- Se observa que ciertos meses presentan mayor concentración de desastres naturales\n",
    "- Esta variabilidad estacional puede estar relacionada con fenómenos climáticos recurrentes\n",
    "- Los meses de verano/invierno (según hemisferio) muestran patrones diferenciados según el tipo de desastre\n",
    "\n",
    "**Implicancias:**\n",
    "- La estacionalidad permite anticipar períodos de mayor riesgo\n",
    "- Las políticas de prevención deberían intensificarse en los meses identificados como críticos\n",
    "- Se requiere preparación diferencial según la estación del año"
   ]
  },
  {
   "cell_type": "markdown",
   "metadata": {},
   "source": [
    "### 4.2 Análisis de tendencias temporales"
   ]
  },
  {
   "cell_type": "code",
   "execution_count": null,
   "metadata": {},
   "outputs": [],
   "source": [
    "# Analizar tendencias temporales\n",
    "tendencias = analizar_tendencias_temporales(df_reciente)"
   ]
  },
  {
   "cell_type": "code",
   "execution_count": null,
   "metadata": {},
   "outputs": [],
   "source": [
    "# Visualizar tendencia anual\n",
    "print(\"\\nTendencia anual (últimas dos décadas):\")\n",
    "print(tendencias['por_año'])"
   ]
  },
  {
   "cell_type": "markdown",
   "metadata": {},
   "source": [
    "#### Apreciación Crítica - Tendencias Temporales\n",
    "\n",
    "**Observaciones:**\n",
    "- La cantidad de desastres naturales registrados muestra una tendencia en las últimas dos décadas\n",
    "- Algunos años específicos presentan picos significativos de actividad\n",
    "- Ciertos tipos de desastres muestran incrementos más pronunciados que otros\n",
    "\n",
    "**Interpretación:**\n",
    "- El incremento puede estar relacionado con:\n",
    "  1. Cambio climático y mayor frecuencia de eventos extremos\n",
    "  2. Mejor sistema de registro y documentación de desastres\n",
    "  3. Mayor vulnerabilidad poblacional en zonas de riesgo\n",
    "  4. Incremento de la población mundial en zonas expuestas\n",
    "\n",
    "**Recomendaciones:**\n",
    "- Es necesario fortalecer los sistemas de monitoreo y alerta temprana\n",
    "- Las políticas de mitigación deben considerar esta tendencia creciente\n",
    "- Se requiere mayor inversión en infraestructura resiliente"
   ]
  },
  {
   "cell_type": "markdown",
   "metadata": {},
   "source": [
    "## 5. VISUALIZACIONES\n",
    "\n",
    "### 5.1 Serie temporal de desastres"
   ]
  },
  {
   "cell_type": "code",
   "execution_count": null,
   "metadata": {},
   "outputs": [],
   "source": [
    "# Crear serie temporal\n",
    "fig_serie = crear_serie_temporal(df_reciente)\n",
    "plt.show()"
   ]
  },
  {
   "cell_type": "markdown",
   "metadata": {},
   "source": [
    "### 5.2 Heatmap estacional"
   ]
  },
  {
   "cell_type": "code",
   "execution_count": null,
   "metadata": {},
   "outputs": [],
   "source": [
    "# Crear heatmap de patrones estacionales\n",
    "fig_heatmap = crear_heatmap_estacional(df_reciente)\n",
    "plt.show()"
   ]
  },
  {
   "cell_type": "markdown",
   "metadata": {},
   "source": [
    "### 5.3 Distribución por tipo y continente"
   ]
  },
  {
   "cell_type": "code",
   "execution_count": null,
   "metadata": {},
   "outputs": [],
   "source": [
    "# Crear gráficos de barras por tipo y continente\n",
    "fig_barras = crear_grafico_barras_tipo(df_reciente)\n",
    "plt.show()"
   ]
  },
  {
   "cell_type": "markdown",
   "metadata": {},
   "source": [
    "## 6. ANÁLISIS DE CRUCES DE VARIABLES\n",
    "\n",
    "### 6.1 Cruce 1: Distribución geográfica de terremotos"
   ]
  },
  {
   "cell_type": "code",
   "execution_count": null,
   "metadata": {},
   "outputs": [],
   "source": [
    "# Análisis de terremotos por región\n",
    "fig_terremotos = crear_visualizacion_cruces(df, 'terremotos_geo')\n",
    "plt.show()"
   ]
  },
  {
   "cell_type": "markdown",
   "metadata": {},
   "source": [
    "#### Apreciación Crítica - Terremotos\n",
    "\n",
    "**Observaciones:**\n",
    "- Los países ubicados en el Cinturón de Fuego del Pacífico concentran la mayor cantidad de terremotos\n",
    "- China, Indonesia, Japón e Irán aparecen consistentemente entre los países más afectados\n",
    "- La distribución geográfica refleja claramente las zonas de actividad tectónica\n",
    "\n",
    "**Análisis:**\n",
    "- La concentración geográfica es predecible basada en la geología de placas tectónicas\n",
    "- Los países identificados requieren inversión continua en construcción antisísmica\n",
    "- Sistemas de alerta temprana son críticos en estas regiones"
   ]
  },
  {
   "cell_type": "markdown",
   "metadata": {},
   "source": [
    "### 6.2 Cruce 2: Regiones con mayor incidencia de inundaciones"
   ]
  },
  {
   "cell_type": "code",
   "execution_count": null,
   "metadata": {},
   "outputs": [],
   "source": [
    "# Análisis de inundaciones por región\n",
    "fig_inundaciones = crear_visualizacion_cruces(df, 'inundaciones_region')\n",
    "plt.show()"
   ]
  },
  {
   "cell_type": "code",
   "execution_count": null,
   "metadata": {},
   "outputs": [],
   "source": [
    "# Análisis detallado de inundaciones\n",
    "df_inundaciones = df[df['Disaster Type'].str.contains('Flood', case=False, na=False)]\n",
    "print(f\"\\nTotal de inundaciones registradas: {len(df_inundaciones)}\")\n",
    "print(f\"\\nTop 10 regiones afectadas:\")\n",
    "print(df_inundaciones['Region'].value_counts().head(10))"
   ]
  },
  {
   "cell_type": "markdown",
   "metadata": {},
   "source": [
    "#### Apreciación Crítica - Inundaciones\n",
    "\n",
    "**Observaciones:**\n",
    "- Las inundaciones son uno de los desastres naturales más frecuentes a nivel global\n",
    "- Asia destaca significativamente en frecuencia, especialmente el Sudeste Asiático y el Sur de Asia\n",
    "- Regiones con grandes sistemas fluviales (Ganges, Mekong, Yangtze) son particularmente vulnerables\n",
    "\n",
    "**Factores contribuyentes:**\n",
    "- Monzones y lluvias estacionales intensas\n",
    "- Alta densidad poblacional en llanuras aluviales\n",
    "- Deforestación y cambios en el uso del suelo\n",
    "- Infraestructura de drenaje insuficiente\n",
    "\n",
    "**Implicancias:**\n",
    "- Se requiere inversión en sistemas de drenaje y control de inundaciones\n",
    "- La planificación urbana debe considerar zonas de inundación\n",
    "- El cambio climático está intensificando los eventos de precipitación extrema"
   ]
  },
  {
   "cell_type": "markdown",
   "metadata": {},
   "source": [
    "### 6.3 Cruce 3: Patrones regionales de sequías extremas"
   ]
  },
  {
   "cell_type": "code",
   "execution_count": null,
   "metadata": {},
   "outputs": [],
   "source": [
    "# Análisis de sequías por región\n",
    "fig_sequias = crear_visualizacion_cruces(df, 'sequias_region')\n",
    "plt.show()"
   ]
  },
  {
   "cell_type": "code",
   "execution_count": null,
   "metadata": {},
   "outputs": [],
   "source": [
    "# Análisis detallado de sequías\n",
    "df_sequias = df[df['Disaster Type'].str.contains('Drought', case=False, na=False)]\n",
    "print(f\"\\nTotal de sequías registradas: {len(df_sequias)}\")\n",
    "print(f\"\\nDistribución por continente:\")\n",
    "print(df_sequias['Continent'].value_counts())"
   ]
  },
  {
   "cell_type": "markdown",
   "metadata": {},
   "source": [
    "#### Apreciación Crítica - Sequías\n",
    "\n",
    "**Observaciones:**\n",
    "- Las sequías afectan principalmente a regiones de África y Asia\n",
    "- África Oriental y el Sahel son particularmente vulnerables\n",
    "- Las sequías tienden a tener impactos prolongados y afectar grandes poblaciones\n",
    "\n",
    "**Características especiales:**\n",
    "- Las sequías son eventos de desarrollo lento pero impacto masivo\n",
    "- Afectan directamente la seguridad alimentaria y el acceso al agua\n",
    "- Su impacto en población afectada suele ser mayor que su mortalidad directa\n",
    "\n",
    "**Desafíos:**\n",
    "- Predicción y monitoreo requieren sistemas de largo plazo\n",
    "- Gestión de recursos hídricos es crítica\n",
    "- Necesidad de estrategias de adaptación agrícola"
   ]
  },
  {
   "cell_type": "markdown",
   "metadata": {},
   "source": [
    "### 6.4 Cruce 4: Frecuencia de tormentas por continente"
   ]
  },
  {
   "cell_type": "code",
   "execution_count": null,
   "metadata": {},
   "outputs": [],
   "source": [
    "# Análisis de tormentas por continente\n",
    "fig_tormentas = crear_visualizacion_cruces(df, 'tormentas_continente')\n",
    "plt.show()"
   ]
  },
  {
   "cell_type": "code",
   "execution_count": null,
   "metadata": {},
   "outputs": [],
   "source": [
    "# Análisis detallado de tormentas\n",
    "df_tormentas = df[df['Disaster Type'].str.contains('Storm', case=False, na=False)]\n",
    "print(f\"\\nTotal de tormentas registradas: {len(df_tormentas)}\")\n",
    "print(f\"\\nDistribución por región:\")\n",
    "print(df_tormentas['Region'].value_counts().head(15))"
   ]
  },
  {
   "cell_type": "markdown",
   "metadata": {},
   "source": [
    "#### Apreciación Crítica - Tormentas\n",
    "\n",
    "**Observaciones:**\n",
    "- Asia y las Américas concentran la mayor cantidad de tormentas registradas\n",
    "- Las tormentas tropicales (huracanes, tifones, ciclones) son las más devastadoras\n",
    "- El Caribe, el Sudeste Asiático y el Este de Asia son especialmente vulnerables\n",
    "\n",
    "**Patrones identificados:**\n",
    "- Estacionalidad marcada según la región (temporada de huracanes)\n",
    "- Incremento en intensidad relacionado con temperaturas oceánicas\n",
    "- Áreas costeras concentran mayor impacto\n",
    "\n",
    "**Consideraciones:**\n",
    "- Los sistemas de alerta han mejorado significativamente la reducción de mortalidad\n",
    "- Sin embargo, los daños económicos continúan incrementando\n",
    "- La infraestructura costera requiere diseño resiliente"
   ]
  },
  {
   "cell_type": "markdown",
   "metadata": {},
   "source": [
    "### 6.5 Cruce 5: Tendencia histórica de incendios forestales"
   ]
  },
  {
   "cell_type": "code",
   "execution_count": null,
   "metadata": {},
   "outputs": [],
   "source": [
    "# Análisis de tendencia de incendios forestales\n",
    "fig_incendios = crear_visualizacion_cruces(df, 'incendios_tendencia')\n",
    "plt.show()"
   ]
  },
  {
   "cell_type": "code",
   "execution_count": null,
   "metadata": {},
   "outputs": [],
   "source": [
    "# Análisis detallado de incendios\n",
    "df_incendios = df[df['Disaster Type'].str.contains('Wildfire', case=False, na=False)]\n",
    "print(f\"\\nTotal de incendios forestales registrados: {len(df_incendios)}\")\n",
    "print(f\"\\nTop 10 países afectados:\")\n",
    "print(df_incendios['Country'].value_counts().head(10))\n",
    "\n",
    "# Tendencia por década\n",
    "if len(df_incendios) > 0:\n",
    "    print(f\"\\nDistribución por década:\")\n",
    "    print(df_incendios['decada'].value_counts().sort_index())"
   ]
  },
  {
   "cell_type": "markdown",
   "metadata": {},
   "source": [
    "#### Apreciación Crítica - Incendios Forestales\n",
    "\n",
    "**Observaciones:**\n",
    "- Los incendios forestales muestran una tendencia creciente en las últimas décadas\n",
    "- Se observa un incremento particularmente marcado en los años 2000-2020\n",
    "- Países como Australia, Estados Unidos, y regiones mediterráneas son especialmente afectados\n",
    "\n",
    "**Factores contribuyentes:**\n",
    "- Incremento de temperaturas y sequías prolongadas (cambio climático)\n",
    "- Expansión urbana hacia zonas forestales (interfaz urbano-forestal)\n",
    "- Acumulación de combustible vegetal por supresión histórica de incendios\n",
    "- Actividad humana (negligencia, intencionalidad)\n",
    "\n",
    "**Implicancias futuras:**\n",
    "- Se espera que la tendencia continúe incrementando con el calentamiento global\n",
    "- Mayor necesidad de gestión preventiva de combustibles\n",
    "- Importancia creciente de sistemas de detección temprana y respuesta rápida\n",
    "- Impacto significativo en biodiversidad, calidad del aire y emisiones de CO2"
   ]
  },
  {
   "cell_type": "markdown",
   "metadata": {},
   "source": [
    "## 7. ANÁLISIS COMPARATIVO DETALLADO\n",
    "\n",
    "### Análisis en profundidad de los tipos de desastres más frecuentes"
   ]
  },
  {
   "cell_type": "code",
   "execution_count": null,
   "metadata": {},
   "outputs": [],
   "source": [
    "# Obtener los 3 tipos más frecuentes\n",
    "top_3_tipos = df_reciente['Disaster Type'].value_counts().head(3).index.tolist()\n",
    "print(f\"Top 3 tipos de desastres (2001-2021):\")\n",
    "for i, tipo in enumerate(top_3_tipos, 1):\n",
    "    print(f\"{i}. {tipo}: {df_reciente[df_reciente['Disaster Type'] == tipo].shape[0]} eventos\")"
   ]
  },
  {
   "cell_type": "code",
   "execution_count": null,
   "metadata": {},
   "outputs": [],
   "source": [
    "# Análisis comparativo del primer tipo más frecuente\n",
    "if len(top_3_tipos) > 0:\n",
    "    fig_comp1 = crear_analisis_comparativo(df_reciente, top_3_tipos[0])\n",
    "    plt.show()"
   ]
  },
  {
   "cell_type": "code",
   "execution_count": null,
   "metadata": {},
   "outputs": [],
   "source": [
    "# Análisis comparativo del segundo tipo más frecuente\n",
    "if len(top_3_tipos) > 1:\n",
    "    fig_comp2 = crear_analisis_comparativo(df_reciente, top_3_tipos[1])\n",
    "    plt.show()"
   ]
  },
  {
   "cell_type": "markdown",
   "metadata": {},
   "source": [
    "## 8. RESUMEN EJECUTIVO Y CONCLUSIONES\n",
    "\n",
    "### Hallazgos Principales\n",
    "\n",
    "**1. Tendencias Temporales:**\n",
    "- Se observa un incremento en la frecuencia de desastres naturales registrados en las últimas dos décadas\n",
    "- Este incremento es particularmente notable en eventos relacionados con el clima (inundaciones, tormentas, sequías)\n",
    "- Los incendios forestales muestran la tendencia creciente más preocupante\n",
    "\n",
    "**2. Patrones Estacionales:**\n",
    "- Existe una clara estacionalidad en la ocurrencia de desastres\n",
    "- Ciertos meses concentran mayor actividad, permitiendo anticipación y preparación\n",
    "- Diferentes tipos de desastres tienen patrones estacionales diferenciados\n",
    "\n",
    "**3. Distribución Geográfica:**\n",
    "- Asia concentra la mayor cantidad y variedad de desastres naturales\n",
    "- Los países en desarrollo suelen tener mayor población afectada debido a menor capacidad de respuesta\n",
    "- Existe una clara correlación entre ubicación geográfica y tipos específicos de desastres\n",
    "\n",
    "**4. Tipos de Desastres:**\n",
    "- Las inundaciones son el tipo más frecuente a nivel global\n",
    "- Los terremotos, aunque menos frecuentes, tienen impacto devastador inmediato\n",
    "- Las sequías afectan a más personas pero con impacto distribuido en el tiempo\n",
    "\n",
    "### Recomendaciones\n",
    "\n",
    "**Política Pública:**\n",
    "- Fortalecer sistemas de alerta temprana, especialmente en regiones identificadas de alto riesgo\n",
    "- Invertir en infraestructura resiliente según el perfil de riesgo de cada región\n",
    "- Desarrollar planes de preparación estacional basados en patrones identificados\n",
    "\n",
    "**Investigación:**\n",
    "- Profundizar en la relación entre cambio climático y aumento de eventos extremos\n",
    "- Estudiar la efectividad de diferentes estrategias de mitigación\n",
    "- Mejorar modelos predictivos incorporando análisis temporal y geográfico\n",
    "\n",
    "**Cooperación Internacional:**\n",
    "- Compartir mejores prácticas entre países con perfiles de riesgo similares\n",
    "- Establecer mecanismos de respuesta rápida regional\n",
    "- Apoyar a países en desarrollo en el fortalecimiento de capacidades\n",
    "\n",
    "### Limitaciones del Estudio\n",
    "\n",
    "- Los datos dependen de la capacidad de registro de cada país\n",
    "- Puede existir sesgo hacia eventos reportados en países desarrollados\n",
    "- Algunos eventos pequeños o en áreas remotas pueden estar subrepresentados\n",
    "- La clasificación de tipos de desastres puede variar según la fuente"
   ]
  },
  {
   "cell_type": "markdown",
   "metadata": {},
   "source": [
    "## 9. ESTADÍSTICAS FINALES"
   ]
  },
  {
   "cell_type": "code",
   "execution_count": null,
   "metadata": {},
   "outputs": [],
   "source": [
    "# Estadísticas generales del dataset procesado\n",
    "print(\"=\" * 60)\n",
    "print(\"ESTADÍSTICAS FINALES DEL ANÁLISIS\")\n",
    "print(\"=\" * 60)\n",
    "\n",
    "print(f\"\\nPERÍODO COMPLETO (1970-2021):\")\n",
    "print(f\"  Total de eventos: {len(df):,}\")\n",
    "print(f\"  Países afectados: {df['Country'].nunique()}\")\n",
    "print(f\"  Regiones afectadas: {df['Region'].nunique()}\")\n",
    "print(f\"  Tipos de desastres: {df['Disaster Type'].nunique()}\")\n",
    "\n",
    "print(f\"\\nÚLTIMAS DOS DÉCADAS (2001-2021):\")\n",
    "print(f\"  Total de eventos: {len(df_reciente):,}\")\n",
    "print(f\"  Promedio anual: {len(df_reciente)/20:.1f} eventos/año\")\n",
    "\n",
    "if 'Total Deaths' in df.columns:\n",
    "    muertes_totales = df['Total Deaths'].sum()\n",
    "    print(f\"\\nIMPACTO HUMANO (período completo):\")\n",
    "    print(f\"  Total de muertes registradas: {muertes_totales:,.0f}\")\n",
    "\n",
    "if 'Total Affected' in df.columns:\n",
    "    afectados_totales = df['Total Affected'].sum()\n",
    "    print(f\"  Total de personas afectadas: {afectados_totales:,.0f}\")\n",
    "\n",
    "print(\"\\n\" + \"=\" * 60)\n",
    "print(\"Análisis completado exitosamente\")\n",
    "print(\"=\" * 60)"
   ]
  }
 ],
 "metadata": {
  "kernelspec": {
   "display_name": "Python 3",
   "language": "python",
   "name": "python3"
  },
  "language_info": {
   "codemirror_mode": {
    "name": "ipython",
    "version": 3
   },
   "file_extension": ".py",
   "mimetype": "text/x-python",
   "name": "python",
   "nbconvert_exporter": "python",
   "pygments_lexer": "ipython3",
   "version": "3.8.0"
  }
 },
 "nbformat": 4,
 "nbformat_minor": 4
}
